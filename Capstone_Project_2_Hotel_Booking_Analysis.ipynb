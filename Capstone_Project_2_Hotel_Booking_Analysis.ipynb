{
  "nbformat": 4,
  "nbformat_minor": 0,
  "metadata": {
    "colab": {
      "private_outputs": true,
      "provenance": [],
      "collapsed_sections": [
        "OH-pJp9IphqM",
        "bbFf2-_FphqN",
        "_ouA3fa0phqN",
        "Seke61FWphqN",
        "t27r6nlMphqO",
        "r2jJGEOYphqO",
        "b0JNsNcRphqO",
        "BZR9WyysphqO",
        "jj7wYXLtphqO",
        "eZrbJ2SmphqO",
        "rFu4xreNphqO",
        "YJ55k-q6phqO",
        "gCFgpxoyphqP",
        "OVtJsKN_phqQ",
        "lssrdh5qphqQ",
        "U2RJ9gkRphqQ",
        "1M8mcRywphqQ",
        "tgIPom80phqQ",
        "JMzcOPDDphqR",
        "x-EpHcCOp1ci",
        "X_VqEhTip1ck",
        "8zGJKyg5p1ck",
        "PVzmfK_Ep1ck",
        "n3dbpmDWp1ck",
        "ylSl6qgtp1ck",
        "ZWILFDl5p1ck",
        "M7G43BXep1ck",
        "Ag9LCva-p1cl",
        "E6MkPsBcp1cl",
        "2cELzS2fp1cl",
        "3MPXvC8up1cl",
        "UV0SzAkaZNRQ",
        "YPEH6qLeZNRQ",
        "q29F0dvdveiT",
        "EXh0U9oCveiU",
        "22aHeOlLveiV",
        "gIfDvo9L0UH2"
      ],
      "include_colab_link": true
    },
    "kernelspec": {
      "name": "python3",
      "display_name": "Python 3"
    },
    "language_info": {
      "name": "python"
    }
  },
  "cells": [
    {
      "cell_type": "markdown",
      "metadata": {
        "id": "view-in-github",
        "colab_type": "text"
      },
      "source": [
        "<a href=\"https://colab.research.google.com/github/NikamPratiksha0506/Hotel-Booking-Analysis/blob/main/Capstone_Project_2_Hotel_Booking_Analysis.ipynb\" target=\"_parent\"><img src=\"https://colab.research.google.com/assets/colab-badge.svg\" alt=\"Open In Colab\"/></a>"
      ]
    },
    {
      "cell_type": "markdown",
      "source": [
        "# **Project Name**    -  Hotel Booking Analysis\n",
        "\n",
        "\n",
        "\n"
      ],
      "metadata": {
        "id": "vncDsAP0Gaoa"
      }
    },
    {
      "cell_type": "markdown",
      "source": [
        "##### **Project Type**    - EDA\n",
        "##### **Contribution**    - Individual\n"
      ],
      "metadata": {
        "id": "beRrZCGUAJYm"
      }
    },
    {
      "cell_type": "markdown",
      "source": [
        "# **Project Summary -**"
      ],
      "metadata": {
        "id": "FJNUwmbgGyua"
      }
    },
    {
      "cell_type": "markdown",
      "source": [
        "In the highly competitive hotel industry, maximizing occupancy and reducing cancellations are critical to profitability and customer satisfaction. This project focuses on conducting an Exploratory Data Analysis (EDA) on hotel booking data to uncover insights that can guide effective decision-making for both city and resort hotels. In this we\n",
        "devide data manipulation workflow in three categories data collection, data Cleaning and data manipulation. The analysis employed methods like info(), head(), and columns() to understand the dataset’s structure. Univariate and bivariate analyses revealed insights such as higher cancellation rates for bookings made well in advance and peak bookings during holidays. Through an analysis of booking trends, customer demographics, and financial data, this project aims to identify patterns and factors that affect bookings, cancellations, and revenue generation, providing actionable insights for improving operational strategies.\n",
        "In the EDA process, we began with univariate analysis to examine individual variables and understand the basic characteristics of the data. For example, analyzing the lead time showed that a significant number of bookings were made well in advance, indicating certain groups of customers preferred planning their stays months ahead.Bivariate analysis provided deeper insights by allowing us to explore relationships between two variables, such as the link between booking status (canceled or not) and lead time. It was found that bookings with long lead times tended to have a higher cancellation rate, possibly due to changes in customer plans or competitive pricing from other providers closer to the booking date.\n",
        "\n"
      ],
      "metadata": {
        "id": "F6v_1wHtG2nS"
      }
    },
    {
      "cell_type": "markdown",
      "source": [
        "# **GitHub Link -**\n",
        "https://github.com/NikamPratiksha0506/EDA/blob/main/Capstone_Project_2_Hotel_Booking_Analysis.ipynb\n",
        "```\n",
        "\n"
      ],
      "metadata": {
        "id": "w6K7xa23Elo4"
      }
    },
    {
      "cell_type": "markdown",
      "source": [
        "Provide your GitHub Link here."
      ],
      "metadata": {
        "id": "h1o69JH3Eqqn"
      }
    },
    {
      "cell_type": "markdown",
      "source": [
        "# **Problem Statement**\n"
      ],
      "metadata": {
        "id": "yQaldy8SH6Dl"
      }
    },
    {
      "cell_type": "markdown",
      "source": [
        "This project seeks to analyze hotel booking data to identify patterns and factors that influence booking behaviors, cancellations, and revenue generation.\n",
        "\n",
        "1. What are the seasonal trends in hotel bookings, and how do they differ between city and resort hotels?\n",
        "2. Which factors are associated with higher cancellation rates, and can these factors be mitigated through specific booking policies or incentives?\n",
        "3. How do different customer segments (e.g., nationality, booking lead time, previous stays) impact revenue and occupancy rates?\n",
        "4. What strategies can hotel management implement to balance occupancy during peak and off-peak seasons effectively?"
      ],
      "metadata": {
        "id": "DpeJGUA3kjGy"
      }
    },
    {
      "cell_type": "markdown",
      "source": [
        "#### **Define Your Business Objective?**"
      ],
      "metadata": {
        "id": "PH-0ReGfmX4f"
      }
    },
    {
      "cell_type": "markdown",
      "source": [
        "1. Maximize Occupancy Rates: Identify booking patterns and seasonal trends to develop strategies for increasing occupancy, especially during off-peak periods.\n",
        "2. Reduce Cancellations: Analyze factors contributing to cancellations and implement policies (e.g., non-refundable options, incentives) to minimize cancellations.\n",
        "3. Optimize Revenue Generation: Use insights to align pricing with demand, maximizing revenue during peak times and minimizing underutilization during low-demand periods.\n",
        "4. Enhance Customer Retention: Leverage customer demographics and preferences to offer personalized services and loyalty programs, fostering repeat business."
      ],
      "metadata": {
        "id": "PhDvGCAqmjP1"
      }
    },
    {
      "cell_type": "markdown",
      "source": [
        "# **General Guidelines** : -  "
      ],
      "metadata": {
        "id": "mDgbUHAGgjLW"
      }
    },
    {
      "cell_type": "markdown",
      "source": [
        "1.   Well-structured, formatted, and commented code is required.\n",
        "2.   Exception Handling, Production Grade Code & Deployment Ready Code will be a plus. Those students will be awarded some additional credits.\n",
        "     \n",
        "     The additional credits will have advantages over other students during Star Student selection.\n",
        "       \n",
        "             [ Note: - Deployment Ready Code is defined as, the whole .ipynb notebook should be executable in one go\n",
        "                       without a single error logged. ]\n",
        "\n",
        "3.   Each and every logic should have proper comments.\n",
        "4. You may add as many number of charts you want. Make Sure for each and every chart the following format should be answered.\n",
        "        \n",
        "\n",
        "```\n",
        "# Chart visualization code\n",
        "```\n",
        "            \n",
        "\n",
        "*   Why did you pick the specific chart?\n",
        "*   What is/are the insight(s) found from the chart?\n",
        "* Will the gained insights help creating a positive business impact?\n",
        "Are there any insights that lead to negative growth? Justify with specific reason.\n",
        "\n",
        "5. You have to create at least 20 logical & meaningful charts having important insights.\n",
        "\n",
        "\n",
        "[ Hints : - Do the Vizualization in  a structured way while following \"UBM\" Rule.\n",
        "\n",
        "U - Univariate Analysis,\n",
        "\n",
        "B - Bivariate Analysis (Numerical - Categorical, Numerical - Numerical, Categorical - Categorical)\n",
        "\n",
        "M - Multivariate Analysis\n",
        " ]\n",
        "\n",
        "\n",
        "\n"
      ],
      "metadata": {
        "id": "ZrxVaUj-hHfC"
      }
    },
    {
      "cell_type": "markdown",
      "source": [
        "# ***Let's Begin !***"
      ],
      "metadata": {
        "id": "O_i_v8NEhb9l"
      }
    },
    {
      "cell_type": "markdown",
      "source": [
        "## ***1. Know Your Data***"
      ],
      "metadata": {
        "id": "HhfV-JJviCcP"
      }
    },
    {
      "cell_type": "markdown",
      "source": [
        "### Import Libraries"
      ],
      "metadata": {
        "id": "Y3lxredqlCYt"
      }
    },
    {
      "cell_type": "code",
      "source": [
        "# Import Libraries\n",
        "import pandas as pd\n",
        "import numpy as np\n",
        "import matplotlib.pyplot as plt\n",
        "import seaborn as sns\n",
        "import plotly.express as px\n",
        "import scipy.stats as stats\n",
        "from sklearn.preprocessing import LabelEncoder, StandardScaler\n",
        "import missingno as msno\n",
        "import datetime"
      ],
      "metadata": {
        "id": "M8Vqi-pPk-HR"
      },
      "execution_count": null,
      "outputs": []
    },
    {
      "cell_type": "markdown",
      "source": [
        "### Dataset Loading"
      ],
      "metadata": {
        "id": "3RnN4peoiCZX"
      }
    },
    {
      "cell_type": "code",
      "source": [
        "# Define the file path\n",
        "from google.colab import drive\n",
        "drive.mount('/content/drive')"
      ],
      "metadata": {
        "id": "be2k4FovM2xh"
      },
      "execution_count": null,
      "outputs": []
    },
    {
      "cell_type": "code",
      "source": [
        "# Load Dataset\n",
        "import os\n",
        "file_path = '/content/drive/My Drive/Hotel Bookings.csv'\n",
        "print(os.path.exists(file_path))    # to know if the file exists at the specified path\n",
        "\n",
        "# Load the CSV file\n",
        "\n",
        "Hotel_Booking_df = pd.read_csv(file_path)\n",
        "\n",
        "# Display the first few rows\n",
        "Hotel_Booking_df.head()\n"
      ],
      "metadata": {
        "id": "4CkvbW_SlZ_R"
      },
      "execution_count": null,
      "outputs": []
    },
    {
      "cell_type": "markdown",
      "source": [
        "### Dataset First View"
      ],
      "metadata": {
        "id": "x71ZqKXriCWQ"
      }
    },
    {
      "cell_type": "code",
      "source": [
        "# Dataset First Look\n",
        "Hotel_Booking_df"
      ],
      "metadata": {
        "id": "LWNFOSvLl09H"
      },
      "execution_count": null,
      "outputs": []
    },
    {
      "cell_type": "markdown",
      "source": [
        "### Dataset Rows & Columns count"
      ],
      "metadata": {
        "id": "7hBIi_osiCS2"
      }
    },
    {
      "cell_type": "code",
      "source": [
        "# Dataset Rows & Columns count\n",
        "\n",
        "rows, columns = Hotel_Booking_df.shape\n",
        "print(f\"The dataset has {rows} rows and {columns} columns.\")\n",
        "\n",
        "print(Hotel_Booking_df.index)  # refers to the row labels of a DataFrame\n",
        "print('\\n')\n",
        "print(Hotel_Booking_df.columns)"
      ],
      "metadata": {
        "id": "Kllu7SJgmLij"
      },
      "execution_count": null,
      "outputs": []
    },
    {
      "cell_type": "markdown",
      "source": [
        "### Dataset Information"
      ],
      "metadata": {
        "id": "JlHwYmJAmNHm"
      }
    },
    {
      "cell_type": "code",
      "source": [
        "# Dataset Info\n",
        "Hotel_Booking_df.info()   # The number of rows,columns,data types.The count of non-null entries in each column\n"
      ],
      "metadata": {
        "id": "e9hRXRi6meOf"
      },
      "execution_count": null,
      "outputs": []
    },
    {
      "cell_type": "markdown",
      "source": [
        "#### Duplicate Values"
      ],
      "metadata": {
        "id": "35m5QtbWiB9F"
      }
    },
    {
      "cell_type": "code",
      "source": [
        "# Dataset Duplicate Value Count\n",
        "\n",
        "Hotel_Booking_df.drop_duplicates(inplace=True)   # we use drop.duplicate to remove duplicate\n",
        "uni_no_of_rows=Hotel_Booking_df.shape[0]\n",
        "uni_no_of_rows\n",
        "\n",
        "duplicate_count = Hotel_Booking_df.duplicated().sum()   # Count duplicate values\n",
        "# Print the result\n",
        "print(f\"The dataset has {duplicate_count} duplicate rows.\")\n"
      ],
      "metadata": {
        "id": "1sLdpKYkmox0"
      },
      "execution_count": null,
      "outputs": []
    },
    {
      "cell_type": "markdown",
      "source": [
        "#### Missing Values/Null Values"
      ],
      "metadata": {
        "id": "PoPl-ycgm1ru"
      }
    },
    {
      "cell_type": "code",
      "source": [
        "# Missing Values/Null Values Count\n",
        "Hotel_Booking_df.reset_index()   # reset the index of a DataFrame or Series."
      ],
      "metadata": {
        "id": "GgHWkxvamxVg"
      },
      "execution_count": null,
      "outputs": []
    },
    {
      "cell_type": "code",
      "source": [
        "# Visualizing the missing values\n",
        "\n",
        "# find,count null val and Sort missing values in descending order\n",
        "missing_val = Hotel_Booking_df.isnull().sum().sort_values(ascending=False)\n",
        "\n",
        "# Display missing values\n",
        "print(missing_val)"
      ],
      "metadata": {
        "id": "3q5wnI3om9sJ"
      },
      "execution_count": null,
      "outputs": []
    },
    {
      "cell_type": "markdown",
      "source": [
        "### What did you know about your dataset?"
      ],
      "metadata": {
        "id": "H0kj-8xxnORC"
      }
    },
    {
      "cell_type": "markdown",
      "source": [
        "In an EDA of a hotel booking dataset, you would analyze booking trends, cancellation rates, and customer behavior. Key insights might include peak booking seasons, the correlation between lead time and cancellations, and variations in average daily rate across hotel types and customer segments. Visualizations like bar plots and heatmaps help uncover patterns, such as the higher cancellation rates among transient customers and higher ADR during peak months."
      ],
      "metadata": {
        "id": "gfoNAAC-nUe_"
      }
    },
    {
      "cell_type": "markdown",
      "source": [
        "## ***2. Understanding Your Variables***"
      ],
      "metadata": {
        "id": "nA9Y7ga8ng1Z"
      }
    },
    {
      "cell_type": "code",
      "source": [
        "# Dataset Columns\n",
        "df_columns= Hotel_Booking_df.columns\n",
        "df_columns"
      ],
      "metadata": {
        "id": "j7xfkqrt5Ag5"
      },
      "execution_count": null,
      "outputs": []
    },
    {
      "cell_type": "code",
      "source": [
        "# Dataset Describe\n",
        "Hotel_Booking_df.describe()  # provides a quick summary of the numerical columns"
      ],
      "metadata": {
        "id": "DnOaZdaE5Q5t"
      },
      "execution_count": null,
      "outputs": []
    },
    {
      "cell_type": "markdown",
      "source": [
        "### Variables Description"
      ],
      "metadata": {
        "id": "PBTbrJXOngz2"
      }
    },
    {
      "cell_type": "markdown",
      "source": [
        "**Hotel**: The type of hotel (e.g., \"Resort Hotel\" or \"City Hotel\").        \n",
        "**Is Canceled**: Indicates if the booking was canceled (1 = canceled, 0 = not canceled).                                                         \n",
        "**Lead Time**: The number of days between the booking date and the arrival date.                                                            \n",
        "**Arrival Date**: Contains information about the year, month, week, and day of the arrival.                                                     \n",
        "**Country**: The guest's country of origin, represented by country codes (e.g., \"PRT\" for Portugal).                                    \n",
        "**Market** **Segment**: The segment through which the reservation was made (e.g., \"Direct,\" \"Corporate\").                                 \n",
        "**Distribution Channel**: The channel through which the booking was made (e.g., \"Direct,\" \"Corporate,\" \"TA/TO\").                             \n",
        "**Is Repeated Guest**: Indicates whether the guest is a returning customer (1 = yes, 0 = no).                                         \n",
        "**Previous Cancellations**: The number of prior bookings canceled by the guest.                                                           \n",
        "**Previous Bookings Not Canceled**: The number of previous bookings that were not canceled.                                            \n",
        "**Reserved Room Type**: The type of room initially reserved by the guest.                                                                 \n",
        "**Assigned Room Type**: The actual room assigned to the guest upon arrival.                                                           \n",
        "**Booking Changes**: The number of changes made to the reservation after the initial booking.                                        \n",
        "**Deposit Type**: The type of deposit required for the booking (e.g., \"No Deposit,\" \"Non Refundable\").                                    \n",
        "**Agent**: The agent responsible for making the booking (e.g., agent IDs).                                                                   \n",
        "**Company**: The company making the reservation, if applicable.          \n",
        "**Days in Waiting List**: The number of days the reservation was on the waiting list before being confirmed.                                   \n",
        "**Customer Type**: The type of customer (e.g., \"Transient,\" \"Contract,\" \"Group\").                                                              \n",
        "**ADR** (Average Daily Rate): The average price per night for the booking.                                                              \n",
        "**Required Car Parking Spaces**: The number of parking spaces requested for the booking.                                                      \n",
        "**Total of Special Requests**: The total number of special requests made by the guest.                                                  \n",
        "**Reservation Status**: The current status of the reservation (e.g., \"Check-Out,\" \"Canceled\").                                            \n",
        "**Reservation Status Date**: The date when the reservation status was last updated.                                                        "
      ],
      "metadata": {
        "id": "aJV4KIxSnxay"
      }
    },
    {
      "cell_type": "markdown",
      "source": [
        "### Check Unique Values for each variable."
      ],
      "metadata": {
        "id": "u3PMJOP6ngxN"
      }
    },
    {
      "cell_type": "code",
      "source": [
        "# Check Unique Values for each variable.\n",
        "for element in Hotel_Booking_df.columns.tolist():\n",
        "    print(\"no of Unique values in\",element,\"is\",Hotel_Booking_df[element].nunique())"
      ],
      "metadata": {
        "id": "zms12Yq5n-jE"
      },
      "execution_count": null,
      "outputs": []
    },
    {
      "cell_type": "code",
      "source": [
        "Hotel_Booking_df['hotel'].unique()  # check the unique value of hotel"
      ],
      "metadata": {
        "id": "02GfD0N8ui9V"
      },
      "execution_count": null,
      "outputs": []
    },
    {
      "cell_type": "code",
      "source": [
        "# check the unique arrival date month of column\n",
        "Hotel_Booking_df['arrival_date_month'].unique()"
      ],
      "metadata": {
        "id": "J5zokx9ewsYA"
      },
      "execution_count": null,
      "outputs": []
    },
    {
      "cell_type": "code",
      "source": [
        "# check the unique adult of column\n",
        "Hotel_Booking_df['adults'].unique()"
      ],
      "metadata": {
        "id": "adxqRJfZuihh"
      },
      "execution_count": null,
      "outputs": []
    },
    {
      "cell_type": "markdown",
      "source": [
        "## 3. ***Data Wrangling***"
      ],
      "metadata": {
        "id": "dauF4eBmngu3"
      }
    },
    {
      "cell_type": "markdown",
      "source": [
        "### Data Wrangling Code"
      ],
      "metadata": {
        "id": "bKJF3rekwFvQ"
      }
    },
    {
      "cell_type": "code",
      "source": [
        "# Write your code to make your dataset analysis ready.\n",
        "missing_val[:10]      # Displays the top 10 columns with the most missing data"
      ],
      "metadata": {
        "id": "wk-9a2fpoLcV"
      },
      "execution_count": null,
      "outputs": []
    },
    {
      "cell_type": "code",
      "source": [
        "# lets check what is the percentage of null values present in each column\n",
        "\n",
        "# Get the total number of rows in the DataFrame\n",
        "uni_no_of_rows = Hotel_Booking_df.shape[0]\n",
        "\n",
        "# Calculate the percentage of null values for the first column in missing_val\n",
        "percentage_company_null = (missing_val.iloc[0] / uni_no_of_rows) * 100\n",
        "\n",
        "print(percentage_company_null)"
      ],
      "metadata": {
        "id": "INragz9uLdpL"
      },
      "execution_count": null,
      "outputs": []
    },
    {
      "cell_type": "code",
      "source": [
        "# lets check what is the percentage of null values present in agent column\n",
        "\n",
        "# Get the total number of rows in the DataFrame\n",
        "uni_no_of_rows = Hotel_Booking_df.shape[0]\n",
        "\n",
        "# Calculate the percentage of null values for the second column in missing_val\n",
        "percentage_company_null = (missing_val.iloc[1] / uni_no_of_rows) * 100\n",
        "\n",
        "print(percentage_company_null)"
      ],
      "metadata": {
        "id": "pDlc9YTAOnRo"
      },
      "execution_count": null,
      "outputs": []
    },
    {
      "cell_type": "code",
      "source": [
        "# lets check what is the percentage of null values present in all columns(Optional)\n",
        "\n",
        "#divides the count of null values in each column by the total number of rows.\n",
        "null_percentage = (Hotel_Booking_df.isnull().sum() / Hotel_Booking_df.shape[0]) * 100\n",
        "null_percentage"
      ],
      "metadata": {
        "id": "YaFEAaC7N0Qk"
      },
      "execution_count": null,
      "outputs": []
    },
    {
      "cell_type": "code",
      "source": [
        "# Fill missing values in the 'hotel' column with the most common hotel type (mode)\n",
        "\n",
        "# Get the most common value (mode) in the 'hotel' column\n",
        "most_common_hotel = Hotel_Booking_df['hotel'].mode()[0]\n",
        "\n",
        "# Fill missing values in the 'hotel' column with the most common value (without inplace=True)\n",
        "Hotel_Booking_df['hotel'] = Hotel_Booking_df['hotel'].fillna(most_common_hotel)\n",
        "\n",
        "# Check if there are any remaining null values in the 'hotel' column\n",
        "missing_hotel_values = Hotel_Booking_df['hotel'].isnull().sum()\n",
        "\n",
        "print(\"Hotel:\", missing_hotel_values)\n",
        "\n",
        "\n",
        "# This is for agent column\n",
        "\n",
        "# Fill missing values in the 'agent' column with 0 (without inplace=True)\n",
        "Hotel_Booking_df['agent'] = Hotel_Booking_df['agent'].fillna(0)\n",
        "\n",
        "# Check if there are any remaining null values in the 'agent' column\n",
        "missing_agent_values = Hotel_Booking_df['agent'].isnull().sum()\n",
        "\n",
        "print(\"agent:\", missing_agent_values)\n"
      ],
      "metadata": {
        "id": "4pYt_3zYQltc"
      },
      "execution_count": null,
      "outputs": []
    },
    {
      "cell_type": "code",
      "source": [
        "#lets check what is the percentage of null values present in Country column\n",
        "percentage_country_null = (missing_val.iloc[2] / uni_no_of_rows) * 100\n",
        "percentage_company_null"
      ],
      "metadata": {
        "id": "fKux0BAhSGdA"
      },
      "execution_count": null,
      "outputs": []
    },
    {
      "cell_type": "code",
      "source": [
        "#we have less percentage of null values present in Country column so we can replce null to other\n",
        "Hotel_Booking_df['country'].fillna(value= 'other')\n",
        "Hotel_Booking_df['country'].isnull().sum()"
      ],
      "metadata": {
        "id": "HLIAbzVpSIoa"
      },
      "execution_count": null,
      "outputs": []
    },
    {
      "cell_type": "code",
      "source": [
        "#lets check now shape\n",
        "Hotel_Booking_df.shape\n"
      ],
      "metadata": {
        "id": "xwIYTqFKT1eW"
      },
      "execution_count": null,
      "outputs": []
    },
    {
      "cell_type": "code",
      "source": [
        "Hotel_Booking_df.isnull().sum()"
      ],
      "metadata": {
        "id": "mLj-58WST1Bs"
      },
      "execution_count": null,
      "outputs": []
    },
    {
      "cell_type": "code",
      "source": [
        "Hotel_Booking_df.info()"
      ],
      "metadata": {
        "id": "ZYxb4qyrUfJa"
      },
      "execution_count": null,
      "outputs": []
    },
    {
      "cell_type": "markdown",
      "source": [
        "### What all manipulations have you done and insights you found?"
      ],
      "metadata": {
        "id": "MSa1f5Uengrz"
      }
    },
    {
      "cell_type": "code",
      "source": [],
      "metadata": {
        "id": "OIW3J5WzQjJS"
      },
      "execution_count": null,
      "outputs": []
    },
    {
      "cell_type": "markdown",
      "source": [
        "The percentage of missing values helped us understand which columns needed the most attention for data cleaning.\n",
        "By filling missing values appropriately (with mode or a predefined value), we ensured that the dataset was ready for further analysis without being biased by missing data."
      ],
      "metadata": {
        "id": "LbyXE7I1olp8"
      }
    },
    {
      "cell_type": "markdown",
      "source": [
        "## ***4. Data Vizualization, Storytelling & Experimenting with charts : Understand the relationships between variables***"
      ],
      "metadata": {
        "id": "GF8Ens_Soomf"
      }
    },
    {
      "cell_type": "markdown",
      "source": [
        "Data visualization is the graphical representation of data and information. It uses visual elements like charts, graphs, and maps to help people understand trends, outliers, and patterns in data."
      ],
      "metadata": {
        "id": "sDuqF7s4MQA7"
      }
    },
    {
      "cell_type": "markdown",
      "source": [
        "#### Chart 1 - Plotting Histogram"
      ],
      "metadata": {
        "id": "0wOQAZs5pc--"
      }
    },
    {
      "cell_type": "markdown",
      "source": [
        " histogram is a graphical representation of the distribution of numerical data, used to visualize the frequency or count of data points within different ranges (bins).\n",
        " Histograms are used when your data is continuous, meaning it can take any value within a given range."
      ],
      "metadata": {
        "id": "vHQHcEkgMhuv"
      }
    },
    {
      "cell_type": "code",
      "source": [
        "# Assigning data hotel_booking_df in df\n",
        "df = Hotel_Booking_df"
      ],
      "metadata": {
        "id": "J3Mexs8mbwcI"
      },
      "execution_count": null,
      "outputs": []
    },
    {
      "cell_type": "code",
      "source": [
        "sns.histplot(df['lead_time'], bins=30, kde=True)\n",
        "plt.title('Distribution of Booking Lead Time')\n",
        "plt.xlabel('Lead Time (days)') #number of days between the booking date and the arrival date.\n",
        "plt.ylabel('Frequency')  # how many bookings fall into each \"lead time\" range.\n",
        "plt.show()"
      ],
      "metadata": {
        "id": "7v_ESjsspbW7"
      },
      "execution_count": null,
      "outputs": []
    },
    {
      "cell_type": "markdown",
      "source": [
        "##### 1. Why did you pick the specific chart?"
      ],
      "metadata": {
        "id": "K5QZ13OEpz2H"
      }
    },
    {
      "cell_type": "markdown",
      "source": [
        "Choosing the right chart for your data is essential for effective communication and insight generation. Each type of chart has its strengths and is best suited for specific kinds of data or analysis. Here’s why I picked specific charts like histograms\n",
        "\n",
        "Histograms are ideal for visualizing the distribution of continuous numerical data (like lead time, length of stay, or booking prices). Booking Lead Time: By plotting a histogram of lead time, we can easily see if most customers tend to book far in advance or last minute."
      ],
      "metadata": {
        "id": "XESiWehPqBRc"
      }
    },
    {
      "cell_type": "markdown",
      "source": [
        "##### 2. What is/are the insight(s) found from the chart?"
      ],
      "metadata": {
        "id": "lQ7QKXXCp7Bj"
      }
    },
    {
      "cell_type": "markdown",
      "source": [
        "If the histogram shows a long right tail, it might suggest that many customers book far in advance, while most bookings happen in the near future."
      ],
      "metadata": {
        "id": "C_j1G7yiqdRP"
      }
    },
    {
      "cell_type": "markdown",
      "source": [
        "##### 3. Will the gained insights help creating a positive business impact?\n",
        "Are there any insights that lead to negative growth? Justify with specific reason."
      ],
      "metadata": {
        "id": "448CDAPjqfQr"
      }
    },
    {
      "cell_type": "markdown",
      "source": [
        "Analyzing hotel booking data can optimize pricing strategies, improve customer segmentation, and enhance operational efficiency, leading to increased bookings and profitability."
      ],
      "metadata": {
        "id": "3cspy4FjqxJW"
      }
    },
    {
      "cell_type": "markdown",
      "source": [
        "#### Chart 2- Pie Chart"
      ],
      "metadata": {
        "id": "KSlN3yHqYklG"
      }
    },
    {
      "cell_type": "markdown",
      "source": [
        "It is most effective when you have a small number of categories and want to visualize how each part contributes to the total, such as showing market share or budget distribution. Pie charts are simple and intuitive, making it easy to understand percentages or relative contributions at a glance."
      ],
      "metadata": {
        "id": "F3SqnkJhNAEc"
      }
    },
    {
      "cell_type": "code",
      "source": [
        "# Chart - 2 visualization code\n",
        "cancellation_counts = df['is_canceled'].value_counts()\n",
        "cancellation_counts.plot.pie(autopct='%1.1f%%', colors=['#ff9999', '#66b3ff'], startangle=90, legend=False)\n",
        "plt.title('Proportion of Canceled vs. Confirmed Bookings')\n",
        "plt.ylabel('')  # Hide y-axis label for clarity\n",
        "plt.show()"
      ],
      "metadata": {
        "id": "R4YgtaqtYklH"
      },
      "execution_count": null,
      "outputs": []
    },
    {
      "cell_type": "markdown",
      "source": [
        "##### 1. Why did you pick the specific chart?"
      ],
      "metadata": {
        "id": "t6dVpIINYklI"
      }
    },
    {
      "cell_type": "markdown",
      "source": [
        "Pie charts are ideal for showing proportions of a whole. In this case, the goal is to compare two categories: canceled and confirmed bookings."
      ],
      "metadata": {
        "id": "5aaW0BYyYklI"
      }
    },
    {
      "cell_type": "markdown",
      "source": [
        "##### 2. What is/are the insight(s) found from the chart?"
      ],
      "metadata": {
        "id": "ijmpgYnKYklI"
      }
    },
    {
      "cell_type": "markdown",
      "source": [
        "It allows us to easily compare categories number of cancellations vs. number of confirmed bookings."
      ],
      "metadata": {
        "id": "PSx9atu2YklI"
      }
    },
    {
      "cell_type": "markdown",
      "source": [
        "##### 3. Will the gained insights help creating a positive business impact?\n"
      ],
      "metadata": {
        "id": "-JiQyfWJYklI"
      }
    },
    {
      "cell_type": "markdown",
      "source": [
        "Are there any insights that lead to negative growth? Justify with specific reason.\n",
        "\n",
        "By analyzing booking cancellations versus confirmed bookings, hotels can gain actionable insights into customer behavior, pricing strategies, operational efficiencies, and marketing. These insights can help reduce cancellations, improve the customer experience, optimize pricing and inventory management, and ultimately lead to higher revenue, better customer retention, and operational cost savings. Thus, the insights from this analysis can create a positive business impact by enhancing both profitability and customer satisfaction."
      ],
      "metadata": {
        "id": "BcBbebzrYklV"
      }
    },
    {
      "cell_type": "markdown",
      "source": [
        "#### Chart 3 - Scatter Plot"
      ],
      "metadata": {
        "id": "EM7whBJCYoAo"
      }
    },
    {
      "cell_type": "markdown",
      "source": [
        "A scatter plot is used to display the relationship between two continuous variables. It helps in visualizing trends, correlations, and patterns in the data, making it ideal for understanding how one variable impacts another."
      ],
      "metadata": {
        "id": "JHOeqSBbNl2u"
      }
    },
    {
      "cell_type": "code",
      "source": [
        "# Chart - 3 visualization code\n",
        "sns.scatterplot(x='lead_time', y='stays_in_weekend_nights', data=df)\n",
        "plt.title('Lead Time vs. Length of Stay (Weekend Nights)')\n",
        "plt.xlabel('Lead Time (days)')\n",
        "plt.ylabel('Weekend Nights Stay')\n",
        "plt.show()"
      ],
      "metadata": {
        "id": "t6GMdE67YoAp"
      },
      "execution_count": null,
      "outputs": []
    },
    {
      "cell_type": "markdown",
      "source": [
        "##### 1. Why did you pick the specific chart?"
      ],
      "metadata": {
        "id": "fge-S5ZAYoAp"
      }
    },
    {
      "cell_type": "markdown",
      "source": [
        "Scatter plots are great for showing the relationship between two numerical variables (e.g., lead time vs. length of stay). Scatter plots help to Visualize any correlation or trend between two variables. Identify patterns, clusters, or outliers. Understand how changes in one variable affect another."
      ],
      "metadata": {
        "id": "5dBItgRVYoAp"
      }
    },
    {
      "cell_type": "markdown",
      "source": [
        "##### 2. What is/are the insight(s) found from the chart?"
      ],
      "metadata": {
        "id": "85gYPyotYoAp"
      }
    },
    {
      "cell_type": "markdown",
      "source": [
        "The scatter plot you've created, which visualizes the relationship between lead time (the number of days before booking) and stays in weekend nights (the number of nights stayed over the weekend), can provide several insights into customer booking behaviors. Below are some potential insights that you can derive from this chart: 1.Lead Time and Weekend Stay Length Relationship 2.Clusters or Groupings in Data 3.Outliers (Booking Behavior Deviations) 4.Peak Booking Times (Seasonality or Events) 5.Planned Travelers (Long Lead Time, Longer Stay)"
      ],
      "metadata": {
        "id": "4jstXR6OYoAp"
      }
    },
    {
      "cell_type": "markdown",
      "source": [
        "##### 3. Will the gained insights help creating a positive business impact?\n",
        "Are there any insights that lead to negative growth? Justify with specific reason."
      ],
      "metadata": {
        "id": "RoGjAbkUYoAp"
      }
    },
    {
      "cell_type": "markdown",
      "source": [
        "This scatter plot thus provides actionable insights that can help the hotel optimize its marketing strategy, pricing structure, and booking policies to better cater to different customer groups based on their booking behaviors.\n",
        "\n"
      ],
      "metadata": {
        "id": "zfJ8IqMcYoAp"
      }
    },
    {
      "cell_type": "markdown",
      "source": [
        "#### Chart 4 - Bar Chart"
      ],
      "metadata": {
        "id": "4Of9eVA-YrdM"
      }
    },
    {
      "cell_type": "markdown",
      "source": [
        "It is especially useful when you need to compare discrete groups or categories, such as comparing sales figures across different products or revenue by region. Bar plots are easy to interpret and make it straightforward to compare the magnitude of different categories."
      ],
      "metadata": {
        "id": "A149HrlnNroX"
      }
    },
    {
      "cell_type": "code",
      "source": [
        "# Chart - 4 visualization code\n",
        "import matplotlib.pyplot as plt\n",
        "\n",
        "# Define the function to plot the bar chart\n",
        "def plot_bar_chart_from_column(df, column_name, title):\n",
        "    # Check if the column exists in the dataframe\n",
        "    if column_name not in df.columns:\n",
        "        print(f\"Error: '{column_name}' does not exist in the DataFrame\")\n",
        "        return\n",
        "\n",
        "    # Count the occurrences of each value in the specified column\n",
        "    value_counts = df[column_name].value_counts()\n",
        "\n",
        "    # Plotting the bar chart\n",
        "    plt.figure(figsize=(10, 6))\n",
        "    value_counts.plot(kind='bar', color='skyblue')\n",
        "\n",
        "    # Adding titles and labels\n",
        "    plt.title(title)\n",
        "    plt.xlabel(column_name)\n",
        "    plt.ylabel('Count')\n",
        "\n",
        "    # Rotate x-axis labels if necessary\n",
        "    plt.xticks(rotation=45)\n",
        "\n",
        "    # Adjust layout to prevent overlap\n",
        "    plt.tight_layout()\n",
        "\n",
        "    # Display the plot\n",
        "    plt.show()\n",
        "\n",
        "# Example usage (ensure Hotel_Booking_df is defined earlier in your code)\n",
        "plot_bar_chart_from_column(Hotel_Booking_df, 'assigned_room_type', 'Assigned Room by Type')\n",
        "\n"
      ],
      "metadata": {
        "id": "irlUoxc8YrdO"
      },
      "execution_count": null,
      "outputs": []
    },
    {
      "cell_type": "markdown",
      "source": [
        "##### 1. Why did you pick the specific chart?"
      ],
      "metadata": {
        "id": "iky9q4vBYrdO"
      }
    },
    {
      "cell_type": "markdown",
      "source": [
        "I chose a bar chart because it effectively visualizes the distribution of categorical data, such as the count of each assigned room type."
      ],
      "metadata": {
        "id": "aJRCwT6DYrdO"
      }
    },
    {
      "cell_type": "markdown",
      "source": [
        "##### 2. What is/are the insight(s) found from the chart?"
      ],
      "metadata": {
        "id": "F6T5p64dYrdO"
      }
    },
    {
      "cell_type": "markdown",
      "source": [
        "The bar chart reveals which room types are most and least popular among guests, providing insights into customer preferences."
      ],
      "metadata": {
        "id": "Xx8WAJvtYrdO"
      }
    },
    {
      "cell_type": "markdown",
      "source": [
        "##### 3. Will the gained insights help creating a positive business impact?\n",
        "Are there any insights that lead to negative growth? Justify with specific reason."
      ],
      "metadata": {
        "id": "y-Ehk30pYrdP"
      }
    },
    {
      "cell_type": "markdown",
      "source": [
        "The insights can help optimize room allocation and marketing strategies, leading to increased bookings and profitability."
      ],
      "metadata": {
        "id": "jLNxxz7MYrdP"
      }
    },
    {
      "cell_type": "markdown",
      "source": [
        "#### Chart 5  - horizontal bar chart"
      ],
      "metadata": {
        "id": "bamQiAODYuh1"
      }
    },
    {
      "cell_type": "markdown",
      "source": [
        "A horizontal bar chart is particularly useful when the category labels are long, as it provides more space for them to be easily readable. It is also effective when dealing with a large number of categories, as it helps avoid crowding and makes comparisons between categories clearer."
      ],
      "metadata": {
        "id": "2LZVNi_VZhRF"
      }
    },
    {
      "cell_type": "code",
      "source": [
        "# Chart - 5 visualization code horizontal bar chart\n",
        "market_segment_counts = df['market_segment'].value_counts()\n",
        "market_segment_counts.plot(kind='barh', color=['#4CAF50', '#FF9800', '#2196F3', '#F44336'])\n",
        "plt.title('Market Segment Distribution')\n",
        "plt.xlabel('Count of Bookings')\n",
        "plt.ylabel('Market Segment')\n",
        "plt.show()"
      ],
      "metadata": {
        "id": "TIJwrbroYuh3"
      },
      "execution_count": null,
      "outputs": []
    },
    {
      "cell_type": "markdown",
      "source": [
        "##### 1. Why did you pick the specific chart?"
      ],
      "metadata": {
        "id": "QHF8YVU7Yuh3"
      }
    },
    {
      "cell_type": "markdown",
      "source": [
        "I picked the horizontal bar chart because it effectively displays categorical data (market segments) along with their counts, making it easy to compare the relative sizes of each segment. Horizontal bars are especially useful when the category names are long or when there are many categories."
      ],
      "metadata": {
        "id": "dcxuIMRPYuh3"
      }
    },
    {
      "cell_type": "markdown",
      "source": [
        "##### 2. What is/are the insight(s) found from the chart?"
      ],
      "metadata": {
        "id": "GwzvFGzlYuh3"
      }
    },
    {
      "cell_type": "markdown",
      "source": [
        "The insights from the chart would reveal the relative distribution of bookings across different market segments, highlighting which segments contribute the most or least to total bookings. This can help identify trends or areas for targeted marketing efforts."
      ],
      "metadata": {
        "id": "uyqkiB8YYuh3"
      }
    },
    {
      "cell_type": "markdown",
      "source": [
        "##### 3. Will the gained insights help creating a positive business impact?\n",
        "Are there any insights that lead to negative growth? Justify with specific reason."
      ],
      "metadata": {
        "id": "qYpmQ266Yuh3"
      }
    },
    {
      "cell_type": "markdown",
      "source": [
        "Yes, the insights can help create a positive business impact by identifying the most profitable market segments, allowing businesses to allocate resources effectively and target high-performing segments. If a segment shows significantly low bookings, it could signal a need for improvement in that area, such as marketing efforts or service offerings, which could potentially lead to negative growth if neglected."
      ],
      "metadata": {
        "id": "_WtzZ_hCYuh4"
      }
    },
    {
      "cell_type": "markdown",
      "source": [
        "#### Chart - 6"
      ],
      "metadata": {
        "id": "OH-pJp9IphqM"
      }
    },
    {
      "cell_type": "code",
      "source": [
        "# Chart - 6 visualization code"
      ],
      "metadata": {
        "id": "kuRf4wtuphqN"
      },
      "execution_count": null,
      "outputs": []
    },
    {
      "cell_type": "markdown",
      "source": [
        "##### 1. Why did you pick the specific chart?"
      ],
      "metadata": {
        "id": "bbFf2-_FphqN"
      }
    },
    {
      "cell_type": "markdown",
      "source": [
        "Answer Here."
      ],
      "metadata": {
        "id": "loh7H2nzphqN"
      }
    },
    {
      "cell_type": "markdown",
      "source": [
        "##### 2. What is/are the insight(s) found from the chart?"
      ],
      "metadata": {
        "id": "_ouA3fa0phqN"
      }
    },
    {
      "cell_type": "markdown",
      "source": [
        "Answer Here"
      ],
      "metadata": {
        "id": "VECbqPI7phqN"
      }
    },
    {
      "cell_type": "markdown",
      "source": [
        "##### 3. Will the gained insights help creating a positive business impact?\n",
        "Are there any insights that lead to negative growth? Justify with specific reason."
      ],
      "metadata": {
        "id": "Seke61FWphqN"
      }
    },
    {
      "cell_type": "markdown",
      "source": [
        "Answer Here"
      ],
      "metadata": {
        "id": "DW4_bGpfphqN"
      }
    },
    {
      "cell_type": "markdown",
      "source": [
        "#### Chart - 7"
      ],
      "metadata": {
        "id": "PIIx-8_IphqN"
      }
    },
    {
      "cell_type": "code",
      "source": [
        "# Chart - 7 visualization code"
      ],
      "metadata": {
        "id": "lqAIGUfyphqO"
      },
      "execution_count": null,
      "outputs": []
    },
    {
      "cell_type": "markdown",
      "source": [
        "##### 1. Why did you pick the specific chart?"
      ],
      "metadata": {
        "id": "t27r6nlMphqO"
      }
    },
    {
      "cell_type": "markdown",
      "source": [
        "Answer Here."
      ],
      "metadata": {
        "id": "iv6ro40sphqO"
      }
    },
    {
      "cell_type": "markdown",
      "source": [
        "##### 2. What is/are the insight(s) found from the chart?"
      ],
      "metadata": {
        "id": "r2jJGEOYphqO"
      }
    },
    {
      "cell_type": "markdown",
      "source": [
        "Answer Here"
      ],
      "metadata": {
        "id": "Po6ZPi4hphqO"
      }
    },
    {
      "cell_type": "markdown",
      "source": [
        "##### 3. Will the gained insights help creating a positive business impact?\n",
        "Are there any insights that lead to negative growth? Justify with specific reason."
      ],
      "metadata": {
        "id": "b0JNsNcRphqO"
      }
    },
    {
      "cell_type": "markdown",
      "source": [
        "Answer Here"
      ],
      "metadata": {
        "id": "xvSq8iUTphqO"
      }
    },
    {
      "cell_type": "markdown",
      "source": [
        "#### Chart - 8"
      ],
      "metadata": {
        "id": "BZR9WyysphqO"
      }
    },
    {
      "cell_type": "code",
      "source": [
        "# Chart - 8 visualization code"
      ],
      "metadata": {
        "id": "TdPTWpAVphqO"
      },
      "execution_count": null,
      "outputs": []
    },
    {
      "cell_type": "markdown",
      "source": [
        "##### 1. Why did you pick the specific chart?"
      ],
      "metadata": {
        "id": "jj7wYXLtphqO"
      }
    },
    {
      "cell_type": "markdown",
      "source": [
        "Answer Here."
      ],
      "metadata": {
        "id": "Ob8u6rCTphqO"
      }
    },
    {
      "cell_type": "markdown",
      "source": [
        "##### 2. What is/are the insight(s) found from the chart?"
      ],
      "metadata": {
        "id": "eZrbJ2SmphqO"
      }
    },
    {
      "cell_type": "markdown",
      "source": [
        "Answer Here"
      ],
      "metadata": {
        "id": "mZtgC_hjphqO"
      }
    },
    {
      "cell_type": "markdown",
      "source": [
        "##### 3. Will the gained insights help creating a positive business impact?\n",
        "Are there any insights that lead to negative growth? Justify with specific reason."
      ],
      "metadata": {
        "id": "rFu4xreNphqO"
      }
    },
    {
      "cell_type": "markdown",
      "source": [
        "Answer Here"
      ],
      "metadata": {
        "id": "ey_0qi68phqO"
      }
    },
    {
      "cell_type": "markdown",
      "source": [
        "#### Chart - 9"
      ],
      "metadata": {
        "id": "YJ55k-q6phqO"
      }
    },
    {
      "cell_type": "code",
      "source": [
        "# Chart - 9 visualization code"
      ],
      "metadata": {
        "id": "B2aS4O1ophqO"
      },
      "execution_count": null,
      "outputs": []
    },
    {
      "cell_type": "markdown",
      "source": [
        "##### 1. Why did you pick the specific chart?"
      ],
      "metadata": {
        "id": "gCFgpxoyphqP"
      }
    },
    {
      "cell_type": "markdown",
      "source": [
        "Answer Here."
      ],
      "metadata": {
        "id": "TVxDimi2phqP"
      }
    },
    {
      "cell_type": "markdown",
      "source": [
        "##### 2. What is/are the insight(s) found from the chart?"
      ],
      "metadata": {
        "id": "OVtJsKN_phqQ"
      }
    },
    {
      "cell_type": "markdown",
      "source": [
        "Answer Here"
      ],
      "metadata": {
        "id": "ngGi97qjphqQ"
      }
    },
    {
      "cell_type": "markdown",
      "source": [
        "##### 3. Will the gained insights help creating a positive business impact?\n",
        "Are there any insights that lead to negative growth? Justify with specific reason."
      ],
      "metadata": {
        "id": "lssrdh5qphqQ"
      }
    },
    {
      "cell_type": "markdown",
      "source": [
        "Answer Here"
      ],
      "metadata": {
        "id": "tBpY5ekJphqQ"
      }
    },
    {
      "cell_type": "markdown",
      "source": [
        "#### Chart - 10"
      ],
      "metadata": {
        "id": "U2RJ9gkRphqQ"
      }
    },
    {
      "cell_type": "code",
      "source": [
        "# Chart - 10 visualization code"
      ],
      "metadata": {
        "id": "GM7a4YP4phqQ"
      },
      "execution_count": null,
      "outputs": []
    },
    {
      "cell_type": "markdown",
      "source": [
        "##### 1. Why did you pick the specific chart?"
      ],
      "metadata": {
        "id": "1M8mcRywphqQ"
      }
    },
    {
      "cell_type": "markdown",
      "source": [
        "Answer Here."
      ],
      "metadata": {
        "id": "8agQvks0phqQ"
      }
    },
    {
      "cell_type": "markdown",
      "source": [
        "##### 2. What is/are the insight(s) found from the chart?"
      ],
      "metadata": {
        "id": "tgIPom80phqQ"
      }
    },
    {
      "cell_type": "markdown",
      "source": [
        "Answer Here"
      ],
      "metadata": {
        "id": "Qp13pnNzphqQ"
      }
    },
    {
      "cell_type": "markdown",
      "source": [
        "##### 3. Will the gained insights help creating a positive business impact?\n",
        "Are there any insights that lead to negative growth? Justify with specific reason."
      ],
      "metadata": {
        "id": "JMzcOPDDphqR"
      }
    },
    {
      "cell_type": "markdown",
      "source": [
        "Answer Here"
      ],
      "metadata": {
        "id": "R4Ka1PC2phqR"
      }
    },
    {
      "cell_type": "markdown",
      "source": [
        "#### Chart - 11"
      ],
      "metadata": {
        "id": "x-EpHcCOp1ci"
      }
    },
    {
      "cell_type": "code",
      "source": [
        "# Chart - 11 visualization code"
      ],
      "metadata": {
        "id": "mAQTIvtqp1cj"
      },
      "execution_count": null,
      "outputs": []
    },
    {
      "cell_type": "markdown",
      "source": [
        "##### 1. Why did you pick the specific chart?"
      ],
      "metadata": {
        "id": "X_VqEhTip1ck"
      }
    },
    {
      "cell_type": "markdown",
      "source": [
        "Answer Here."
      ],
      "metadata": {
        "id": "-vsMzt_np1ck"
      }
    },
    {
      "cell_type": "markdown",
      "source": [
        "##### 2. What is/are the insight(s) found from the chart?"
      ],
      "metadata": {
        "id": "8zGJKyg5p1ck"
      }
    },
    {
      "cell_type": "markdown",
      "source": [
        "Answer Here"
      ],
      "metadata": {
        "id": "ZYdMsrqVp1ck"
      }
    },
    {
      "cell_type": "markdown",
      "source": [
        "##### 3. Will the gained insights help creating a positive business impact?\n",
        "Are there any insights that lead to negative growth? Justify with specific reason."
      ],
      "metadata": {
        "id": "PVzmfK_Ep1ck"
      }
    },
    {
      "cell_type": "markdown",
      "source": [
        "Answer Here"
      ],
      "metadata": {
        "id": "druuKYZpp1ck"
      }
    },
    {
      "cell_type": "markdown",
      "source": [
        "#### Chart - 12"
      ],
      "metadata": {
        "id": "n3dbpmDWp1ck"
      }
    },
    {
      "cell_type": "code",
      "source": [
        "# Chart - 12 visualization code"
      ],
      "metadata": {
        "id": "bwevp1tKp1ck"
      },
      "execution_count": null,
      "outputs": []
    },
    {
      "cell_type": "markdown",
      "source": [
        "##### 1. Why did you pick the specific chart?"
      ],
      "metadata": {
        "id": "ylSl6qgtp1ck"
      }
    },
    {
      "cell_type": "markdown",
      "source": [
        "Answer Here."
      ],
      "metadata": {
        "id": "m2xqNkiQp1ck"
      }
    },
    {
      "cell_type": "markdown",
      "source": [
        "##### 2. What is/are the insight(s) found from the chart?"
      ],
      "metadata": {
        "id": "ZWILFDl5p1ck"
      }
    },
    {
      "cell_type": "markdown",
      "source": [
        "Answer Here"
      ],
      "metadata": {
        "id": "x-lUsV2mp1ck"
      }
    },
    {
      "cell_type": "markdown",
      "source": [
        "##### 3. Will the gained insights help creating a positive business impact?\n",
        "Are there any insights that lead to negative growth? Justify with specific reason."
      ],
      "metadata": {
        "id": "M7G43BXep1ck"
      }
    },
    {
      "cell_type": "markdown",
      "source": [
        "Answer Here"
      ],
      "metadata": {
        "id": "5wwDJXsLp1cl"
      }
    },
    {
      "cell_type": "markdown",
      "source": [
        "#### Chart - 13"
      ],
      "metadata": {
        "id": "Ag9LCva-p1cl"
      }
    },
    {
      "cell_type": "code",
      "source": [
        "# Chart - 13 visualization code"
      ],
      "metadata": {
        "id": "EUfxeq9-p1cl"
      },
      "execution_count": null,
      "outputs": []
    },
    {
      "cell_type": "markdown",
      "source": [
        "##### 1. Why did you pick the specific chart?"
      ],
      "metadata": {
        "id": "E6MkPsBcp1cl"
      }
    },
    {
      "cell_type": "markdown",
      "source": [
        "Answer Here."
      ],
      "metadata": {
        "id": "V22bRsFWp1cl"
      }
    },
    {
      "cell_type": "markdown",
      "source": [
        "##### 2. What is/are the insight(s) found from the chart?"
      ],
      "metadata": {
        "id": "2cELzS2fp1cl"
      }
    },
    {
      "cell_type": "markdown",
      "source": [
        "Answer Here"
      ],
      "metadata": {
        "id": "ozQPc2_Ip1cl"
      }
    },
    {
      "cell_type": "markdown",
      "source": [
        "##### 3. Will the gained insights help creating a positive business impact?\n",
        "Are there any insights that lead to negative growth? Justify with specific reason."
      ],
      "metadata": {
        "id": "3MPXvC8up1cl"
      }
    },
    {
      "cell_type": "markdown",
      "source": [
        "Answer Here"
      ],
      "metadata": {
        "id": "GL8l1tdLp1cl"
      }
    },
    {
      "cell_type": "markdown",
      "source": [
        "#### Chart - 14 - Correlation Heatmap"
      ],
      "metadata": {
        "id": "NC_X3p0fY2L0"
      }
    },
    {
      "cell_type": "code",
      "source": [
        "# Correlation Heatmap visualization code"
      ],
      "metadata": {
        "id": "xyC9zolEZNRQ"
      },
      "execution_count": null,
      "outputs": []
    },
    {
      "cell_type": "markdown",
      "source": [
        "##### 1. Why did you pick the specific chart?"
      ],
      "metadata": {
        "id": "UV0SzAkaZNRQ"
      }
    },
    {
      "cell_type": "markdown",
      "source": [
        "Answer Here."
      ],
      "metadata": {
        "id": "DVPuT8LYZNRQ"
      }
    },
    {
      "cell_type": "markdown",
      "source": [
        "##### 2. What is/are the insight(s) found from the chart?"
      ],
      "metadata": {
        "id": "YPEH6qLeZNRQ"
      }
    },
    {
      "cell_type": "markdown",
      "source": [
        "Answer Here"
      ],
      "metadata": {
        "id": "bfSqtnDqZNRR"
      }
    },
    {
      "cell_type": "markdown",
      "source": [
        "#### Chart - 15 - Pair Plot"
      ],
      "metadata": {
        "id": "q29F0dvdveiT"
      }
    },
    {
      "cell_type": "code",
      "source": [
        "# Pair Plot visualization code"
      ],
      "metadata": {
        "id": "o58-TEIhveiU"
      },
      "execution_count": null,
      "outputs": []
    },
    {
      "cell_type": "markdown",
      "source": [
        "##### 1. Why did you pick the specific chart?"
      ],
      "metadata": {
        "id": "EXh0U9oCveiU"
      }
    },
    {
      "cell_type": "markdown",
      "source": [
        "Answer Here."
      ],
      "metadata": {
        "id": "eMmPjTByveiU"
      }
    },
    {
      "cell_type": "markdown",
      "source": [
        "##### 2. What is/are the insight(s) found from the chart?"
      ],
      "metadata": {
        "id": "22aHeOlLveiV"
      }
    },
    {
      "cell_type": "markdown",
      "source": [
        "Answer Here"
      ],
      "metadata": {
        "id": "uPQ8RGwHveiV"
      }
    },
    {
      "cell_type": "markdown",
      "source": [
        "## **5. Solution to Business Objective**"
      ],
      "metadata": {
        "id": "JcMwzZxoAimU"
      }
    },
    {
      "cell_type": "markdown",
      "source": [
        "#### What do you suggest the client to achieve Business Objective ?\n",
        "Explain Briefly."
      ],
      "metadata": {
        "id": "8G2x9gOozGDZ"
      }
    },
    {
      "cell_type": "markdown",
      "source": [
        "To achieve business objectives, I suggest the client focuses on optimizing room pricing and promotions based on demand patterns, while also considering the underutilized room types for potential rebranding or repurposing. Additionally, targeting customer segments with tailored offers for popular room types can increase bookings and profitability."
      ],
      "metadata": {
        "id": "pASKb0qOza21"
      }
    },
    {
      "cell_type": "code",
      "source": [
        "df.to_csv('Clinned_data.csv',index=False)   # save a DataFrame (df) to a CSV file"
      ],
      "metadata": {
        "id": "riEvBKtcomry"
      },
      "execution_count": null,
      "outputs": []
    },
    {
      "cell_type": "code",
      "source": [
        "# from google.colab import files\n",
        "# files.download('Clinned_data.csv')   #  used in Google Colab to download the file to local machine."
      ],
      "metadata": {
        "id": "DnAwk8vCpyA0"
      },
      "execution_count": null,
      "outputs": []
    },
    {
      "cell_type": "markdown",
      "source": [
        "# **Conclusion**"
      ],
      "metadata": {
        "id": "gCX9965dhzqZ"
      }
    },
    {
      "cell_type": "markdown",
      "source": [
        "In conclusion, the hotel booking analysis through EDA provides valuable insights into booking trends, customer preferences, and operational efficiencies. By understanding room type popularity, booking patterns, and seasonal trends, the hotel can optimize pricing, marketing strategies, and resource allocation to improve customer satisfaction and profitability. Additionally, identifying areas of inefficiency, such as underutilized room types, allows for better inventory management and targeted promotions, ultimately supporting the business's growth and long-term success."
      ],
      "metadata": {
        "id": "Fjb1IsQkh3yE"
      }
    },
    {
      "cell_type": "markdown",
      "source": [
        "### ***Hurrah! You have successfully completed your EDA Capstone Project !!!***"
      ],
      "metadata": {
        "id": "gIfDvo9L0UH2"
      }
    }
  ]
}